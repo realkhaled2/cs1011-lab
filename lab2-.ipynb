{
  "cells": [
    {
      "cell_type": "markdown",
      "id": "a3857acc-a3e0-4dfe-b881-938edc380b90",
      "metadata": {
        "id": "a3857acc-a3e0-4dfe-b881-938edc380b90"
      },
      "source": [
        " # Lab 2:\n",
        " **Name:** *خالد ممدوح شكري الخطيب*\n",
        "\n",
        " **ID:** *446007268*"
      ]
    },
    {
      "cell_type": "markdown",
      "id": "caa7d925-56ed-4c6e-b2f5-5dfbb0ed9dcb",
      "metadata": {
        "id": "caa7d925-56ed-4c6e-b2f5-5dfbb0ed9dcb"
      },
      "source": [
        "### Part 1: Alphabetical Order (10%)"
      ]
    },
    {
      "cell_type": "markdown",
      "id": "8df513cf-fe36-4806-8c4e-dc1065d412a0",
      "metadata": {
        "id": "8df513cf-fe36-4806-8c4e-dc1065d412a0"
      },
      "source": [
        "Write a program that takes in three lowercase characters and outputs the characters in alphabetical order. The program must read and output the characters as a list."
      ]
    },
    {
      "cell_type": "markdown",
      "id": "3bdc52a0-9c02-45b7-91d1-c22d0f4940bc",
      "metadata": {
        "id": "3bdc52a0-9c02-45b7-91d1-c22d0f4940bc"
      },
      "source": [
        "#### Hint: Ordering three characters takes six permutations."
      ]
    },
    {
      "cell_type": "markdown",
      "id": "bdfdae17-e20c-4f0c-85c3-b709661ce563",
      "metadata": {
        "id": "bdfdae17-e20c-4f0c-85c3-b709661ce563"
      },
      "source": [
        "Ex: If the input is:\n",
        "\n",
        "first character: b\n",
        "\n",
        "second character: c\n",
        "\n",
        "third character: a\n",
        "\n",
        "the output is:\n",
        "\n",
        "('a', 'b', 'c')"
      ]
    },
    {
      "cell_type": "code",
      "execution_count": 44,
      "id": "d70df1fd-f96a-4550-99a2-e99180f7ae9d",
      "metadata": {
        "colab": {
          "base_uri": "https://localhost:8080/"
        },
        "id": "d70df1fd-f96a-4550-99a2-e99180f7ae9d",
        "outputId": "a49afa26-a304-4fbe-95e8-a3fd61698868"
      },
      "outputs": [
        {
          "output_type": "stream",
          "name": "stdout",
          "text": [
            "enter three characters:b c a\n",
            "the list of characters is ['b', 'c', 'a']\n",
            "The list characters in alphabetical order: ['a', 'b', 'c']\n"
          ]
        }
      ],
      "source": [
        "def alphabetical_order(chs):\n",
        "    n= len(chs) #3\n",
        "    for i in range(n): #\n",
        "        for j in range (0,n-i-1):\n",
        "            if chs[j] > chs[j+1]:\n",
        "                chs[j], chs[j+1] = chs[j+1], chs[j]\n",
        "    return chs\n",
        "\n",
        "'''\n",
        "def alphabetical_order(chars):\n",
        "    n = len(chars) # 3\n",
        "    for i in range(n - 1): 0 ,1\n",
        "        min_index = i\n",
        "        for j in range(i +1,n): 2\n",
        "            if chars[j] < chars[min_index]:\n",
        "              min_index = j\n",
        "        # swap the minimum elemnt with the first unsorted element\n",
        "        chars[i], chars[min_index] = chars[min_index], chars[i]\n",
        "    return chars\n",
        "'''\n",
        "\n",
        "\n",
        "\n",
        "\n",
        "\n",
        "\n",
        "\n",
        "# Read three characters\n",
        "user_input = input('enter three characters:')\n",
        "user_chs = user_input.split()\n",
        "\n",
        "print(f'the list of characters is {user_chs}')\n",
        "print(f'The list characters in alphabetical order: {alphabetical_order(user_chs)}')"
      ]
    },
    {
      "cell_type": "markdown",
      "id": "e1730854-a4f0-43a6-b9eb-45c879ea2bd5",
      "metadata": {
        "id": "e1730854-a4f0-43a6-b9eb-45c879ea2bd5"
      },
      "source": [
        "### Part 2: Count odd numbers (10%)"
      ]
    },
    {
      "cell_type": "markdown",
      "id": "9b103c2e-9507-4004-9751-ec147f138fab",
      "metadata": {
        "id": "9b103c2e-9507-4004-9751-ec147f138fab"
      },
      "source": [
        "Write a program that takes in four positive integers and outputs the number of odd numbers."
      ]
    },
    {
      "cell_type": "markdown",
      "id": "41a97039-7add-4948-991d-740d05f388b7",
      "metadata": {
        "id": "41a97039-7add-4948-991d-740d05f388b7"
      },
      "source": [
        "Ex: If the input is:\n",
        "\n",
        "first num: 1\n",
        "\n",
        "second num: 2\n",
        "\n",
        "third num: 3\n",
        "\n",
        "fourth num: 4\n",
        "\n",
        "\n",
        "the output is: 2"
      ]
    },
    {
      "cell_type": "markdown",
      "id": "f7a73180-29d6-4e53-ae16-803a7ad3ea17",
      "metadata": {
        "id": "f7a73180-29d6-4e53-ae16-803a7ad3ea17"
      },
      "source": [
        "Ex: If the input is:\n",
        "\n",
        "first num: 19\n",
        "\n",
        "second num: 19\n",
        "\n",
        "third num: 19\n",
        "\n",
        "fourth num: 10\n",
        "\n",
        "\n",
        "the output is: 4"
      ]
    },
    {
      "cell_type": "code",
      "execution_count": 42,
      "id": "42933105-6151-4d82-bfd9-4bbee150a2f0",
      "metadata": {
        "colab": {
          "base_uri": "https://localhost:8080/"
        },
        "id": "42933105-6151-4d82-bfd9-4bbee150a2f0",
        "outputId": "e9b7bbaa-b2a5-4441-d096-80f14d9aeb7e"
      },
      "outputs": [
        {
          "output_type": "stream",
          "name": "stdout",
          "text": [
            "enter a list of numbers:6 4 7 9 \n",
            "Number of odd is 2\n"
          ]
        }
      ],
      "source": [
        "def count_odd(lst):\n",
        "  count = 0\n",
        "  for i in lst:\n",
        "      if i % 2 == 1:\n",
        "        count = count +1\n",
        "  return count #3\n",
        "  # we have two solutions\n",
        "''' def count_odd(lst):\n",
        "  c=0\n",
        "  for i in lst:\n",
        "    if i % 2!=0:\n",
        "      c=c+1\n",
        "  return c\n",
        "'''\n",
        "user_input = input('enter a list of numbers:')\n",
        "tokens = user_input.split()\n",
        "lst = [int(a) for a in tokens]\n",
        "\n",
        "print(f'Number of odd is {count_odd(lst)}')"
      ]
    },
    {
      "cell_type": "markdown",
      "id": "1e9ab80f-1395-4aee-b039-03d4873c74cd",
      "metadata": {
        "id": "1e9ab80f-1395-4aee-b039-03d4873c74cd"
      },
      "source": [
        "#### Optional Step:\n",
        "\n",
        "- Download the python file [l2grader](https://github.com/mknifiai/cs1011-lab/blob/main/l2grader.py) to test your code.\n",
        "\n",
        "- Place the file in your current working directory. Then run the following code cell"
      ]
    },
    {
      "cell_type": "code",
      "execution_count": null,
      "id": "e8bb29ff-a8af-41fd-b254-92e3972537f3",
      "metadata": {
        "id": "e8bb29ff-a8af-41fd-b254-92e3972537f3"
      },
      "outputs": [],
      "source": [
        "%run -i 'l2grader.py'"
      ]
    },
    {
      "cell_type": "markdown",
      "id": "1c5357ca-f01a-4d36-80d8-7b2639753050",
      "metadata": {
        "id": "1c5357ca-f01a-4d36-80d8-7b2639753050"
      },
      "source": [
        "## Check in"
      ]
    },
    {
      "cell_type": "markdown",
      "id": "c1da68e3-4bfb-4202-a7ab-d92c32c36757",
      "metadata": {
        "id": "c1da68e3-4bfb-4202-a7ab-d92c32c36757"
      },
      "source": [
        "#### - <font color='red'>Rename this file as follows: lab3-YOUR_UQU_ID.ipynb <font>"
      ]
    },
    {
      "cell_type": "markdown",
      "id": "60a8ef0c-96fa-498f-a3ab-6191c433d211",
      "metadata": {
        "id": "60a8ef0c-96fa-498f-a3ab-6191c433d211"
      },
      "source": [
        "#### - <font color='red'>Upload your notebook file to Blackboard<font>"
      ]
    }
  ],
  "metadata": {
    "kernelspec": {
      "display_name": "Python 3 (ipykernel)",
      "language": "python",
      "name": "python3"
    },
    "language_info": {
      "codemirror_mode": {
        "name": "ipython",
        "version": 3
      },
      "file_extension": ".py",
      "mimetype": "text/x-python",
      "name": "python",
      "nbconvert_exporter": "python",
      "pygments_lexer": "ipython3",
      "version": "3.12.1"
    },
    "colab": {
      "provenance": []
    }
  },
  "nbformat": 4,
  "nbformat_minor": 5
}