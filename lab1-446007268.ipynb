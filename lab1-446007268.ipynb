{
  "cells": [
    {
      "cell_type": "markdown",
      "id": "a3857acc-a3e0-4dfe-b881-938edc380b90",
      "metadata": {
        "id": "a3857acc-a3e0-4dfe-b881-938edc380b90"
      },
      "source": [
        " # Lab 1:\n",
        " **Name:** *خالد ممدوح شكري الخطيب*\n",
        "\n",
        " **ID:** *446007268*"
      ]
    },
    {
      "cell_type": "markdown",
      "id": "caa7d925-56ed-4c6e-b2f5-5dfbb0ed9dcb",
      "metadata": {
        "id": "caa7d925-56ed-4c6e-b2f5-5dfbb0ed9dcb"
      },
      "source": [
        "### Part 1: Calories burned during workout"
      ]
    },
    {
      "cell_type": "markdown",
      "id": "f4eb3356-6ac9-44c0-a841-7ac8e288dc79",
      "metadata": {
        "id": "f4eb3356-6ac9-44c0-a841-7ac8e288dc79"
      },
      "source": [
        "##### - (5%) Write a program that calculates the average calories burned for a person when exercising.\n",
        "\n",
        "$ Calories = \\frac{( Age \\times 0.2757 + Weight \\times 0.03295 + Heart Rate \\times 1.0781 - 75.4991 ) \\times Time}{8.368}$\n",
        "\n",
        "- The program reads the following values from a user:\n",
        "    - Age in years\n",
        "    - Weight in pounds\n",
        "    - Heart rate (beats per minute)\n",
        "    - Time in minutes\n",
        "    \n",
        "- The program outputs the average calories burned for a person. The output must be as a float value with two digits after the decimal point, which can be achieved as follows:\n",
        "    - print(f'Calories: {calories:.2f}')"
      ]
    },
    {
      "cell_type": "code",
      "execution_count": 4,
      "id": "f7de46be-3fa7-42b8-93fb-80589a3b30e2",
      "metadata": {
        "id": "f7de46be-3fa7-42b8-93fb-80589a3b30e2"
      },
      "outputs": [],
      "source": [
        "# Complete the following function\n",
        "\n",
        "def calculate_calories(age_years,weight_pounds,heart_bpm,time_minutes):\n",
        "    calories = (age_years*0.2757 + weight_pounds*0.03295 + heart_bpm*1.0781 - 75.4991)*time_minutes/8.368\n",
        "    print(f'calories: {calories:.2f}')"
      ]
    },
    {
      "cell_type": "code",
      "execution_count": 5,
      "id": "36585de7-b27a-48dd-8c48-eb666e149b36",
      "metadata": {
        "colab": {
          "base_uri": "https://localhost:8080/"
        },
        "id": "36585de7-b27a-48dd-8c48-eb666e149b36",
        "outputId": "f66ccd48-acfc-48e3-8108-d744634382c7"
      },
      "outputs": [
        {
          "output_type": "stream",
          "name": "stdout",
          "text": [
            "age in years:19\n",
            "weight:155\n",
            "heart rate:145\n",
            "time:60\n",
            "calories: 653.71\n"
          ]
        }
      ],
      "source": [
        "\n",
        "#### Get input from user ####\n",
        "age_years =int(input(\"age in years:\"))\n",
        "weight_pounds =int(input(\"weight:\"))\n",
        "heart_bpm =int(input(\"heart rate:\"))\n",
        "time_minutes =int(input(\"time:\"))\n",
        "\n",
        "### Now we call the method calculate_calories\n",
        "calculate_calories(age_years,weight_pounds,heart_bpm,time_minutes)"
      ]
    },
    {
      "cell_type": "markdown",
      "id": "ed5c7e24-038d-409d-ba03-21659108808d",
      "metadata": {
        "id": "ed5c7e24-038d-409d-ba03-21659108808d"
      },
      "source": [
        "### Part 2: Phone number breakdown"
      ]
    },
    {
      "cell_type": "markdown",
      "id": "586944ea-ce1a-4207-8d72-369a37cbba26",
      "metadata": {
        "id": "586944ea-ce1a-4207-8d72-369a37cbba26"
      },
      "source": [
        "- In this problem, you ask the user to input integers representing a 10-digit phone number\n",
        "- Your program should output the area code, prefix, and line number using the format (800) 555-1212."
      ]
    },
    {
      "cell_type": "markdown",
      "id": "e5837cf8-5125-413d-b6b7-b6539bad29d7",
      "metadata": {
        "id": "e5837cf8-5125-413d-b6b7-b6539bad29d7"
      },
      "source": [
        "Example: If the input is:\n"
      ]
    },
    {
      "cell_type": "markdown",
      "id": "7543057b-b1b5-4d8e-bb43-1bc2ddf899b2",
      "metadata": {
        "id": "7543057b-b1b5-4d8e-bb43-1bc2ddf899b2"
      },
      "source": [
        "8005551212"
      ]
    },
    {
      "cell_type": "markdown",
      "id": "5c67e648-34e2-4add-a006-bb4167e98150",
      "metadata": {
        "id": "5c67e648-34e2-4add-a006-bb4167e98150"
      },
      "source": [
        "The output is"
      ]
    },
    {
      "cell_type": "markdown",
      "id": "77f10de4-19a1-41a9-bc35-e0939331f997",
      "metadata": {
        "id": "77f10de4-19a1-41a9-bc35-e0939331f997"
      },
      "source": [
        "(800)555-1212"
      ]
    },
    {
      "cell_type": "markdown",
      "id": "2da02aed-e714-432a-903b-fe41a737f615",
      "metadata": {
        "id": "2da02aed-e714-432a-903b-fe41a737f615"
      },
      "source": [
        "Hint:\n",
        "- Use % to get the desired rightmost digits.\n",
        "- Use // to shift right by the desired amount."
      ]
    },
    {
      "cell_type": "code",
      "execution_count": 16,
      "id": "6cb8f827-375b-4e6a-b4b1-1173f5d16cab",
      "metadata": {
        "id": "6cb8f827-375b-4e6a-b4b1-1173f5d16cab",
        "outputId": "c3836b0d-4bda-4a23-c740-28d158947d95",
        "colab": {
          "base_uri": "https://localhost:8080/"
        }
      },
      "outputs": [
        {
          "output_type": "stream",
          "name": "stdout",
          "text": [
            "72\n",
            "5\n"
          ]
        }
      ],
      "source": [
        "print(572 % 100)\n",
        "print(572//100)"
      ]
    },
    {
      "cell_type": "markdown",
      "id": "3f279ff2-24c6-4d0c-8964-f5c990b68803",
      "metadata": {
        "id": "3f279ff2-24c6-4d0c-8964-f5c990b68803"
      },
      "source": [
        "### Requirements"
      ]
    },
    {
      "cell_type": "markdown",
      "id": "0f2963b3-4d09-4ee1-bf11-da256501239c",
      "metadata": {
        "id": "0f2963b3-4d09-4ee1-bf11-da256501239c"
      },
      "source": [
        "1- (5%) Define the function *area_code(phone_number)* that takes a phone number and returns its area code.\n"
      ]
    },
    {
      "cell_type": "markdown",
      "id": "9f8a6ab6-58e7-4358-86f4-c89b1b0870c5",
      "metadata": {
        "id": "9f8a6ab6-58e7-4358-86f4-c89b1b0870c5"
      },
      "source": [
        "2- (5%) Define the function *prefix(phone_number)* that takes a phone number and returns its prefix.\n"
      ]
    },
    {
      "cell_type": "markdown",
      "id": "68023c0e-7cd7-48c1-ab98-7726abfebad5",
      "metadata": {
        "id": "68023c0e-7cd7-48c1-ab98-7726abfebad5"
      },
      "source": [
        "3- (5%) Define the function *line_number(phone_number)* that takes a phone number and returns its line number."
      ]
    },
    {
      "cell_type": "code",
      "execution_count": 14,
      "id": "4f7668ee-6f0d-46ce-8466-202af40cfb06",
      "metadata": {
        "id": "4f7668ee-6f0d-46ce-8466-202af40cfb06"
      },
      "outputs": [],
      "source": [
        "# Complete the following functions\n",
        "\n",
        "def line_number(phone_number):\n",
        "  num = phone_number%10000\n",
        "  return num\n",
        "\n",
        "def prefix(phone_number):\n",
        "  num = phone_number%10000000\n",
        "  prefix = num//10000\n",
        "  return prefix\n",
        "\n",
        "def area_code(phone_number):\n",
        " num = phone_number//10000000\n",
        " return num\n",
        " # 800.3432431531\n"
      ]
    },
    {
      "cell_type": "code",
      "execution_count": 15,
      "id": "62c4c29c-bce5-4023-af36-7d1533863e08",
      "metadata": {
        "id": "62c4c29c-bce5-4023-af36-7d1533863e08",
        "outputId": "8f34b209-35d0-48db-bb78-513a840c70a9",
        "colab": {
          "base_uri": "https://localhost:8080/"
        }
      },
      "outputs": [
        {
          "output_type": "stream",
          "name": "stdout",
          "text": [
            "Enter a phone number:8005551212\n",
            "(800) 555-1212\n"
          ]
        }
      ],
      "source": [
        "phone_number = eval(input('Enter a phone number:'))\n",
        "print(f'({area_code(phone_number)}) {prefix(phone_number)}-{line_number(phone_number)}')\n"
      ]
    },
    {
      "cell_type": "markdown",
      "id": "1e9ab80f-1395-4aee-b039-03d4873c74cd",
      "metadata": {
        "id": "1e9ab80f-1395-4aee-b039-03d4873c74cd"
      },
      "source": [
        "#### Optional Step:\n",
        "\n",
        "- Download the python file [l1grader](https://github.com/mknifiai/cs1011-lab/blob/main/l1grader.py) to test your code.\n",
        "\n",
        "- Place the file in your current working directory. Then run the following code cell"
      ]
    },
    {
      "cell_type": "code",
      "execution_count": null,
      "id": "ad2a1a90-eb71-49e7-b47c-39fd81a5e07d",
      "metadata": {
        "id": "ad2a1a90-eb71-49e7-b47c-39fd81a5e07d"
      },
      "outputs": [],
      "source": [
        "%run -i 'l1grader.py'"
      ]
    },
    {
      "cell_type": "markdown",
      "id": "1c5357ca-f01a-4d36-80d8-7b2639753050",
      "metadata": {
        "id": "1c5357ca-f01a-4d36-80d8-7b2639753050"
      },
      "source": [
        "## Check in"
      ]
    },
    {
      "cell_type": "markdown",
      "id": "c1da68e3-4bfb-4202-a7ab-d92c32c36757",
      "metadata": {
        "id": "c1da68e3-4bfb-4202-a7ab-d92c32c36757"
      },
      "source": [
        "#### - <font color='red'>Rename this file as follows: lab1-YOUR_UQU_ID.ipynb <font>"
      ]
    },
    {
      "cell_type": "markdown",
      "id": "60a8ef0c-96fa-498f-a3ab-6191c433d211",
      "metadata": {
        "id": "60a8ef0c-96fa-498f-a3ab-6191c433d211"
      },
      "source": [
        "#### - <font color='red'>Upload your notebook file to Blackboard<font>"
      ]
    }
  ],
  "metadata": {
    "kernelspec": {
      "display_name": "Python 3 (ipykernel)",
      "language": "python",
      "name": "python3"
    },
    "language_info": {
      "codemirror_mode": {
        "name": "ipython",
        "version": 3
      },
      "file_extension": ".py",
      "mimetype": "text/x-python",
      "name": "python",
      "nbconvert_exporter": "python",
      "pygments_lexer": "ipython3",
      "version": "3.12.1"
    },
    "colab": {
      "provenance": []
    }
  },
  "nbformat": 4,
  "nbformat_minor": 5
}