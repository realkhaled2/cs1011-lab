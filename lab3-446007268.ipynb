{
  "cells": [
    {
      "cell_type": "markdown",
      "id": "a3857acc-a3e0-4dfe-b881-938edc380b90",
      "metadata": {
        "id": "a3857acc-a3e0-4dfe-b881-938edc380b90"
      },
      "source": [
        "#### Lab 3:\n",
        " **Name:** *خالد ممدوح شكري الخطيب*\n",
        "\n",
        " **ID:** *446007268*"
      ]
    },
    {
      "cell_type": "markdown",
      "id": "caa7d925-56ed-4c6e-b2f5-5dfbb0ed9dcb",
      "metadata": {
        "id": "caa7d925-56ed-4c6e-b2f5-5dfbb0ed9dcb"
      },
      "source": [
        "### Swapping variables--Functions (20%)"
      ]
    },
    {
      "cell_type": "markdown",
      "id": "8df513cf-fe36-4806-8c4e-dc1065d412a0",
      "metadata": {
        "id": "8df513cf-fe36-4806-8c4e-dc1065d412a0"
      },
      "source": [
        "Define a function named swap_values that takes four integers as parameters and swaps the first with the second, and the third with the fourth values.\n",
        "\n",
        "Then write a main program that reads four integers from input, calls function swap_values() to swap the values, and prints the swapped values on a single line separated with spaces."
      ]
    },
    {
      "cell_type": "markdown",
      "id": "3bdc52a0-9c02-45b7-91d1-c22d0f4940bc",
      "metadata": {
        "id": "3bdc52a0-9c02-45b7-91d1-c22d0f4940bc"
      },
      "source": [
        "Ex: If the input is:\n",
        "\n",
        "- 3\n",
        "- 8\n",
        "- 2\n",
        "- 4"
      ]
    },
    {
      "cell_type": "markdown",
      "id": "bdfdae17-e20c-4f0c-85c3-b709661ce563",
      "metadata": {
        "id": "bdfdae17-e20c-4f0c-85c3-b709661ce563"
      },
      "source": [
        "function swap_values() returns and the main program outputs:\n",
        "\n",
        "8 3 4 2"
      ]
    },
    {
      "cell_type": "markdown",
      "id": "faa78abd-40ce-4159-9c8b-b35d745b9b88",
      "metadata": {
        "id": "faa78abd-40ce-4159-9c8b-b35d745b9b88"
      },
      "source": [
        "The program must define and call the following function.\n",
        "def swap_values(user_val1, user_val2, user_val3, user_val4)"
      ]
    },
    {
      "cell_type": "code",
      "execution_count": 16,
      "id": "3a4147e3-ddb5-40d1-a32c-c7b5853a8b53",
      "metadata": {
        "id": "3a4147e3-ddb5-40d1-a32c-c7b5853a8b53",
        "outputId": "dcdc5309-aa45-4bbb-8442-004c94e4b1c7",
        "colab": {
          "base_uri": "https://localhost:8080/"
        }
      },
      "outputs": [
        {
          "output_type": "stream",
          "name": "stdout",
          "text": [
            "1\n",
            "2\n",
            "3\n",
            "4\n",
            "2 1 4 3\n"
          ]
        }
      ],
      "source": [
        "def swap_values(user_val1, user_val2, user_val3, user_val4):\n",
        "   user_val1, user_val2 = user_val2, user_val1\n",
        "   user_val3, user_val4 = user_val4, user_val3\n",
        "   return user_val1, user_val2, user_val3, user_val4\n",
        "\n",
        "def main():\n",
        "  user_val1 = int(input())\n",
        "  user_val2 = int(input())\n",
        "  user_val3 = int(input())\n",
        "  user_val4 = int(input())\n",
        "  user_val1, user_val2, user_val3, user_val4 = swap_values(user_val1, user_val2, user_val3, user_val4) # 2,1,4,3\n",
        "  print(user_val1, user_val2, user_val3, user_val4)\n",
        "\n",
        "main()\n",
        "\n",
        "\n",
        "# Type your code here. Your code must call the function."
      ]
    },
    {
      "cell_type": "markdown",
      "id": "1e9ab80f-1395-4aee-b039-03d4873c74cd",
      "metadata": {
        "id": "1e9ab80f-1395-4aee-b039-03d4873c74cd"
      },
      "source": [
        "#### Optional Step:\n",
        "\n",
        "- Download the python file [l3grader](https://github.com/mknifiai/cs1011-lab/blob/main/l3grader.py) to test your code.\n",
        "\n",
        "- Place the file in your current working directory. Then run the following code cell"
      ]
    },
    {
      "cell_type": "code",
      "execution_count": null,
      "id": "e8bb29ff-a8af-41fd-b254-92e3972537f3",
      "metadata": {
        "id": "e8bb29ff-a8af-41fd-b254-92e3972537f3"
      },
      "outputs": [],
      "source": [
        "%run -i 'l3grader.py'"
      ]
    },
    {
      "cell_type": "markdown",
      "id": "1c5357ca-f01a-4d36-80d8-7b2639753050",
      "metadata": {
        "id": "1c5357ca-f01a-4d36-80d8-7b2639753050"
      },
      "source": [
        "## Check in"
      ]
    },
    {
      "cell_type": "markdown",
      "id": "c1da68e3-4bfb-4202-a7ab-d92c32c36757",
      "metadata": {
        "id": "c1da68e3-4bfb-4202-a7ab-d92c32c36757"
      },
      "source": [
        "#### - <font color='red'>Rename this file as follows: lab3-YOUR_UQU_ID.ipynb <font>"
      ]
    },
    {
      "cell_type": "markdown",
      "id": "60a8ef0c-96fa-498f-a3ab-6191c433d211",
      "metadata": {
        "id": "60a8ef0c-96fa-498f-a3ab-6191c433d211"
      },
      "source": [
        "#### - <font color='red'>Upload your notebook file to Blackboard<font>"
      ]
    }
  ],
  "metadata": {
    "kernelspec": {
      "display_name": "Python 3 (ipykernel)",
      "language": "python",
      "name": "python3"
    },
    "language_info": {
      "codemirror_mode": {
        "name": "ipython",
        "version": 3
      },
      "file_extension": ".py",
      "mimetype": "text/x-python",
      "name": "python",
      "nbconvert_exporter": "python",
      "pygments_lexer": "ipython3",
      "version": "3.12.1"
    },
    "colab": {
      "provenance": []
    }
  },
  "nbformat": 4,
  "nbformat_minor": 5
}